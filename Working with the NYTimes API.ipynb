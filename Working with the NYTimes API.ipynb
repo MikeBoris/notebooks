{
 "cells": [
  {
   "cell_type": "markdown",
   "metadata": {},
   "source": [
    "Well, data already retrieved via the API.\n",
    "\n",
    "This is based off of [this example](http://nbviewer.jupyter.org/github/nealcaren/quant-text-fall-2014/blob/master/topic_modeling.ipynb)"
   ]
  },
  {
   "cell_type": "code",
   "execution_count": 4,
   "metadata": {
    "collapsed": true
   },
   "outputs": [],
   "source": [
    "import json\n",
    "import pandas as pd\n",
    "import numpy as np\n",
    "from sklearn.feature_extraction.text import TfidfVectorizer\n",
    "from sklearn.decomposition import NMF"
   ]
  },
  {
   "cell_type": "code",
   "execution_count": 6,
   "metadata": {
    "collapsed": false
   },
   "outputs": [
    {
     "name": "stdout",
     "output_type": "stream",
     "text": [
      "Article count: 2\n"
     ]
    },
    {
     "data": {
      "text/html": [
       "<div>\n",
       "<table border=\"1\" class=\"dataframe\">\n",
       "  <thead>\n",
       "    <tr style=\"text-align: right;\">\n",
       "      <th></th>\n",
       "      <th>copyright</th>\n",
       "      <th>response</th>\n",
       "      <th>status</th>\n",
       "    </tr>\n",
       "  </thead>\n",
       "  <tbody>\n",
       "    <tr>\n",
       "      <th>docs</th>\n",
       "      <td>Copyright (c) 2013 The New York Times Company....</td>\n",
       "      <td>[{u'type_of_material': u'News', u'snippet': u'...</td>\n",
       "      <td>OK</td>\n",
       "    </tr>\n",
       "    <tr>\n",
       "      <th>meta</th>\n",
       "      <td>Copyright (c) 2013 The New York Times Company....</td>\n",
       "      <td>{u'hits': 1175, u'time': 13, u'offset': 0}</td>\n",
       "      <td>OK</td>\n",
       "    </tr>\n",
       "  </tbody>\n",
       "</table>\n",
       "</div>"
      ],
      "text/plain": [
       "                                              copyright  \\\n",
       "docs  Copyright (c) 2013 The New York Times Company....   \n",
       "meta  Copyright (c) 2013 The New York Times Company....   \n",
       "\n",
       "                                               response status  \n",
       "docs  [{u'type_of_material': u'News', u'snippet': u'...     OK  \n",
       "meta         {u'hits': 1175, u'time': 13, u'offset': 0}     OK  "
      ]
     },
     "execution_count": 6,
     "metadata": {},
     "output_type": "execute_result"
    }
   ],
   "source": [
    "df = pd.read_json('results.json')\n",
    "print 'Article count:', len(df)\n",
    "df.head()"
   ]
  },
  {
   "cell_type": "code",
   "execution_count": 8,
   "metadata": {
    "collapsed": false
   },
   "outputs": [
    {
     "name": "stdout",
     "output_type": "stream",
     "text": [
      "Index([u'copyright', u'response', u'status'], dtype='object')\n"
     ]
    }
   ],
   "source": [
    "print df.keys()"
   ]
  },
  {
   "cell_type": "code",
   "execution_count": 10,
   "metadata": {
    "collapsed": false
   },
   "outputs": [
    {
     "data": {
      "text/plain": [
       "Index([u'docs', u'meta'], dtype='object')"
      ]
     },
     "execution_count": 10,
     "metadata": {},
     "output_type": "execute_result"
    }
   ],
   "source": [
    "df['response'].keys()"
   ]
  },
  {
   "cell_type": "code",
   "execution_count": 11,
   "metadata": {
    "collapsed": false
   },
   "outputs": [
    {
     "data": {
      "text/plain": [
       "{u'hits': 1175, u'offset': 0, u'time': 13}"
      ]
     },
     "execution_count": 11,
     "metadata": {},
     "output_type": "execute_result"
    }
   ],
   "source": [
    "df['response']['meta']"
   ]
  },
  {
   "cell_type": "code",
   "execution_count": 12,
   "metadata": {
    "collapsed": false
   },
   "outputs": [
    {
     "data": {
      "text/plain": [
       "list"
      ]
     },
     "execution_count": 12,
     "metadata": {},
     "output_type": "execute_result"
    }
   ],
   "source": [
    "type(df['response']['docs'])"
   ]
  },
  {
   "cell_type": "code",
   "execution_count": 13,
   "metadata": {
    "collapsed": true
   },
   "outputs": [],
   "source": [
    "articles = df['response']['docs']"
   ]
  },
  {
   "cell_type": "code",
   "execution_count": 20,
   "metadata": {
    "collapsed": false
   },
   "outputs": [
    {
     "data": {
      "text/plain": [
       "{u'_id': u'5846e2497c459f2525d1040a',\n",
       " u'abstract': None,\n",
       " u'blog': [],\n",
       " u'byline': {u'original': u'By MICHAEL CORKERY and STACY COWLEY',\n",
       "  u'person': [{u'firstname': u'Michael',\n",
       "    u'lastname': u'CORKERY',\n",
       "    u'organization': u'',\n",
       "    u'rank': 1,\n",
       "    u'role': u'reported'},\n",
       "   {u'firstname': u'Stacy',\n",
       "    u'lastname': u'COWLEY',\n",
       "    u'organization': u'',\n",
       "    u'rank': 2,\n",
       "    u'role': u'reported'}]},\n",
       " u'document_type': u'article',\n",
       " u'headline': {u'main': u'Wells Fargo Killing Sham Account Suits by Using Arbitration',\n",
       "  u'print_headline': u'Wells Fargo Moves to Smother Lawsuits Over Sham Accounts'},\n",
       " u'keywords': [{u'is_major': u'Y',\n",
       "   u'name': u'organizations',\n",
       "   u'rank': u'1',\n",
       "   u'value': u'Wells Fargo & Company'},\n",
       "  {u'is_major': u'Y',\n",
       "   u'name': u'subject',\n",
       "   u'rank': u'2',\n",
       "   u'value': u'Arbitration, Conciliation and Mediation'},\n",
       "  {u'is_major': u'N',\n",
       "   u'name': u'subject',\n",
       "   u'rank': u'3',\n",
       "   u'value': u'Banking and Financial Institutions'},\n",
       "  {u'is_major': u'Y',\n",
       "   u'name': u'subject',\n",
       "   u'rank': u'4',\n",
       "   u'value': u'Frauds and Swindling'}],\n",
       " u'lead_paragraph': u'As the bank reels in the court of public opinion, it has been able to stop lawsuits from defrauded customers by moving the cases to arbitration.',\n",
       " u'multimedia': [{u'height': 126,\n",
       "   u'legacy': {u'wide': u'images/2016/12/06/business/06DB-WELLS/06DB-WELLS-thumbWide.jpg',\n",
       "    u'wideheight': u'126',\n",
       "    u'widewidth': u'190'},\n",
       "   u'subtype': u'wide',\n",
       "   u'type': u'image',\n",
       "   u'url': u'images/2016/12/06/business/06DB-WELLS/06DB-WELLS-thumbWide.jpg',\n",
       "   u'width': 190},\n",
       "  {u'height': 408,\n",
       "   u'legacy': {u'xlarge': u'images/2016/12/06/business/06DB-WELLS/06DB-WELLS-articleLarge.jpg',\n",
       "    u'xlargeheight': u'408',\n",
       "    u'xlargewidth': u'600'},\n",
       "   u'subtype': u'xlarge',\n",
       "   u'type': u'image',\n",
       "   u'url': u'images/2016/12/06/business/06DB-WELLS/06DB-WELLS-articleLarge.jpg',\n",
       "   u'width': 600},\n",
       "  {u'height': 75,\n",
       "   u'legacy': {u'thumbnail': u'images/2016/12/06/business/06DB-WELLS/06DB-WELLS-thumbStandard.jpg',\n",
       "    u'thumbnailheight': u'75',\n",
       "    u'thumbnailwidth': u'75'},\n",
       "   u'subtype': u'thumbnail',\n",
       "   u'type': u'image',\n",
       "   u'url': u'images/2016/12/06/business/06DB-WELLS/06DB-WELLS-thumbStandard.jpg',\n",
       "   u'width': 75}],\n",
       " u'news_desk': u'Business',\n",
       " u'print_page': u'1',\n",
       " u'pub_date': u'2016-12-06T16:07:15+0000',\n",
       " u'section_name': u'Business Day',\n",
       " u'slideshow_credits': None,\n",
       " u'snippet': u'As the bank reels in the court of public opinion, it has been able to stop lawsuits from defrauded customers by moving the cases to arbitration....',\n",
       " u'source': u'The New York Times',\n",
       " u'subsection_name': u'DealBook',\n",
       " u'type_of_material': u'News',\n",
       " u'web_url': u'http://www.nytimes.com/2016/12/06/business/dealbook/wells-fargo-killing-sham-account-suits-by-using-arbitration.html',\n",
       " u'word_count': u'1513'}"
      ]
     },
     "execution_count": 20,
     "metadata": {},
     "output_type": "execute_result"
    }
   ],
   "source": [
    "articles[0]"
   ]
  },
  {
   "cell_type": "code",
   "execution_count": 23,
   "metadata": {
    "collapsed": false
   },
   "outputs": [
    {
     "data": {
      "text/plain": [
       "{u'main': u'Wells Fargo Killing Sham Account Suits by Using Arbitration',\n",
       " u'print_headline': u'Wells Fargo Moves to Smother Lawsuits Over Sham Accounts'}"
      ]
     },
     "execution_count": 23,
     "metadata": {},
     "output_type": "execute_result"
    }
   ],
   "source": [
    "articles[0]['headline']"
   ]
  },
  {
   "cell_type": "code",
   "execution_count": 24,
   "metadata": {
    "collapsed": false
   },
   "outputs": [
    {
     "data": {
      "text/plain": [
       "u'As the bank reels in the court of public opinion, it has been able to stop lawsuits from defrauded customers by moving the cases to arbitration.'"
      ]
     },
     "execution_count": 24,
     "metadata": {},
     "output_type": "execute_result"
    }
   ],
   "source": [
    "articles[0]['lead_paragraph']"
   ]
  }
 ],
 "metadata": {
  "anaconda-cloud": {},
  "kernelspec": {
   "display_name": "Python [conda root]",
   "language": "python",
   "name": "conda-root-py"
  },
  "language_info": {
   "codemirror_mode": {
    "name": "ipython",
    "version": 2
   },
   "file_extension": ".py",
   "mimetype": "text/x-python",
   "name": "python",
   "nbconvert_exporter": "python",
   "pygments_lexer": "ipython2",
   "version": "2.7.12"
  }
 },
 "nbformat": 4,
 "nbformat_minor": 1
}
