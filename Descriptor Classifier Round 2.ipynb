{
 "cells": [
  {
   "cell_type": "code",
   "execution_count": 1,
   "metadata": {
    "collapsed": true
   },
   "outputs": [],
   "source": [
    "import sklearn"
   ]
  },
  {
   "cell_type": "code",
   "execution_count": 19,
   "metadata": {
    "collapsed": true
   },
   "outputs": [],
   "source": [
    "categories = ['Case_Study', \n",
    "              'Editorial',\n",
    "              'Letter',\n",
    "              'Commentary',\n",
    "              'Review',\n",
    "              'Clinical_Trial',\n",
    "              'Randomized_Controlled_Trial',\n",
    "              'Research',\n",
    "              'Systematic_Review']"
   ]
  },
  {
   "cell_type": "code",
   "execution_count": 20,
   "metadata": {
    "collapsed": true
   },
   "outputs": [],
   "source": [
    "from sklearn.datasets import load_files\n",
    "descriptors = sklearn.datasets.load_files('C:\\Users\\dclynch\\Desktop\\MTI_CIN\\Pub_Type_Classifier\\pub_types', description=None, categories=categories, load_content=True, shuffle=True, encoding='utf-8', decode_error='strict', random_state=0)"
   ]
  },
  {
   "cell_type": "code",
   "execution_count": 21,
   "metadata": {
    "collapsed": false
   },
   "outputs": [
    {
     "data": {
      "text/plain": [
       "(2560, 21420)"
      ]
     },
     "execution_count": 21,
     "metadata": {},
     "output_type": "execute_result"
    }
   ],
   "source": [
    "from nltk.corpus import stopwords\n",
    "from sklearn.feature_extraction.text import CountVectorizer\n",
    "from sklearn.feature_extraction.text import TfidfTransformer\n",
    "count_vect = CountVectorizer(stop_words=stopwords.words('english'))\n",
    "tfidf_transformer = TfidfTransformer()\n",
    "\n",
    "# tokenizing build a dictionary of features and transform documents to feature vectors\n",
    "X_train_counts = count_vect.fit_transform(descriptors.data)\n",
    "X_train_tfidf = tfidf_transformer.fit_transform(X_train_counts)\n",
    "X_train_tfidf.shape"
   ]
  },
  {
   "cell_type": "code",
   "execution_count": 22,
   "metadata": {
    "collapsed": true
   },
   "outputs": [],
   "source": [
    "from sklearn.linear_model import SGDClassifier\n",
    "clf = SGDClassifier(loss='hinge', penalty='l2',\n",
    "                                         alpha=1e-3, n_iter=5,\n",
    "                                         random_state=42).fit(X_train_tfidf, descriptors.target)"
   ]
  },
  {
   "cell_type": "code",
   "execution_count": 23,
   "metadata": {
    "collapsed": false
   },
   "outputs": [
    {
     "name": "stdout",
     "output_type": "stream",
     "text": [
      "'A letter to editor is presented' => Letter\n",
      "'case report of year old patient presented with symptoms' => Case_Study\n",
      "'this study investigates' => Research\n"
     ]
    }
   ],
   "source": [
    "docs_new = ['A letter to editor is presented', 'case report of year old patient presented with symptoms', 'this study investigates']\n",
    "X_new_counts = count_vect.transform(docs_new)\n",
    "X_new_tfidf = tfidf_transformer.transform(X_new_counts)\n",
    "\n",
    "predicted = clf.predict(X_new_tfidf)\n",
    "\n",
    "for doc, category in zip(docs_new, predicted):\n",
    "    print('%r => %s' % (doc, descriptors.target_names[category]))"
   ]
  },
  {
   "cell_type": "code",
   "execution_count": 24,
   "metadata": {
    "collapsed": true
   },
   "outputs": [],
   "source": [
    "from sklearn.pipeline import Pipeline\n",
    "text_clf = Pipeline([('vect', CountVectorizer()),\n",
    "                     ('tfidf', TfidfTransformer()),\n",
    "                     ('clf', SGDClassifier()),\n",
    "])"
   ]
  },
  {
   "cell_type": "code",
   "execution_count": 25,
   "metadata": {
    "collapsed": true
   },
   "outputs": [],
   "source": [
    "text_clf = text_clf.fit(descriptors.data, descriptors.target)"
   ]
  },
  {
   "cell_type": "code",
   "execution_count": 33,
   "metadata": {
    "collapsed": false
   },
   "outputs": [],
   "source": [
    "import numpy as np\n",
    "descriptors_test = sklearn.datasets.load_files('C:\\Users\\dclynch\\Desktop\\MTI_CIN\\Pub_Type_Classifier\\pub_types_test', description=None, categories=categories, load_content=True, shuffle=True, encoding='utf-8', decode_error='strict', random_state=0)\n",
    "docs_test = descriptors_test.data\n"
   ]
  },
  {
   "cell_type": "code",
   "execution_count": 34,
   "metadata": {
    "collapsed": false
   },
   "outputs": [
    {
     "data": {
      "text/plain": [
       "0.74131274131274127"
      ]
     },
     "execution_count": 34,
     "metadata": {},
     "output_type": "execute_result"
    }
   ],
   "source": [
    "predicted = text_clf.predict(docs_test)\n",
    "np.mean(predicted == descriptors_test.target)"
   ]
  },
  {
   "cell_type": "code",
   "execution_count": 36,
   "metadata": {
    "collapsed": false
   },
   "outputs": [
    {
     "name": "stdout",
     "output_type": "stream",
     "text": [
      "                             precision    recall  f1-score   support\n",
      "\n",
      "                 Case_Study       0.68      0.53      0.59        40\n",
      "             Clinical_Trial       0.12      0.24      0.16        29\n",
      "                 Commentary       0.25      0.17      0.20        35\n",
      "                  Editorial       0.91      0.88      0.89       233\n",
      "                     Letter       0.56      0.41      0.47        22\n",
      "Randomized_Controlled_Trial       0.79      0.75      0.77       195\n",
      "                   Research       0.79      0.76      0.77       227\n",
      "                     Review       0.28      0.68      0.40        28\n",
      "          Systematic_Review       0.87      0.81      0.84       227\n",
      "\n",
      "                avg / total       0.77      0.74      0.75      1036\n",
      "\n",
      "Confusion matrix:\n"
     ]
    },
    {
     "data": {
      "text/plain": [
       "array([[ 21,   1,   0,   2,   3,   1,   3,   6,   3],\n",
       "       [  0,   7,   0,   0,   0,  13,   8,   0,   1],\n",
       "       [  2,   0,   6,   9,   0,   0,   4,  12,   2],\n",
       "       [  0,   2,  13, 204,   2,   0,   5,   5,   2],\n",
       "       [  3,   1,   1,   5,   9,   0,   0,   3,   0],\n",
       "       [  0,  23,   0,   1,   0, 147,  13,   2,   9],\n",
       "       [  3,  16,   1,   2,   0,  23, 172,   2,   8],\n",
       "       [  0,   0,   2,   1,   1,   0,   2,  19,   3],\n",
       "       [  2,   7,   1,   0,   1,   2,  12,  19, 183]])"
      ]
     },
     "execution_count": 36,
     "metadata": {},
     "output_type": "execute_result"
    }
   ],
   "source": [
    "from sklearn import metrics\n",
    "print(metrics.classification_report(descriptors_test.target, predicted,\n",
    "    target_names=descriptors_test.target_names))\n",
    "\n",
    "\n",
    "print \"Confusion matrix:\"\n",
    "metrics.confusion_matrix(descriptors_test.target, predicted)\n"
   ]
  }
 ],
 "metadata": {
  "anaconda-cloud": {},
  "kernelspec": {
   "display_name": "Python [conda root]",
   "language": "python",
   "name": "conda-root-py"
  },
  "language_info": {
   "codemirror_mode": {
    "name": "ipython",
    "version": 2
   },
   "file_extension": ".py",
   "mimetype": "text/x-python",
   "name": "python",
   "nbconvert_exporter": "python",
   "pygments_lexer": "ipython2",
   "version": "2.7.12"
  }
 },
 "nbformat": 4,
 "nbformat_minor": 1
}
