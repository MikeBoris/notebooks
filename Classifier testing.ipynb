{
 "cells": [
  {
   "cell_type": "code",
   "execution_count": 48,
   "metadata": {
    "collapsed": true
   },
   "outputs": [],
   "source": [
    "import sklearn\n",
    "from sklearn.datasets import load_files\n",
    "categories = ['Case_Study', 'Editorial', 'Letter',\n",
    "              'Randomized_Controlled_Trial', 'Research', 'Systematic_Review']\n",
    "\n",
    "descriptors = sklearn.datasets.load_files('C:\\Users\\dclynch\\Desktop\\MTI_CIN\\Pub_Type_Classifier\\pub_types', description=None, categories=categories, load_content=True, shuffle=True, encoding='utf-8', decode_error='strict', random_state=0)"
   ]
  },
  {
   "cell_type": "code",
   "execution_count": 49,
   "metadata": {
    "collapsed": false
   },
   "outputs": [
    {
     "data": {
      "text/plain": [
       "(2426, 20873)"
      ]
     },
     "execution_count": 49,
     "metadata": {},
     "output_type": "execute_result"
    }
   ],
   "source": [
    "from nltk.corpus import stopwords\n",
    "from sklearn.feature_extraction.text import CountVectorizer\n",
    "from sklearn.feature_extraction.text import TfidfTransformer\n",
    "count_vect = CountVectorizer(stop_words=stopwords.words('english'))\n",
    "tfidf_transformer = TfidfTransformer()\n",
    "\n",
    "# tokenizing build a dictionary of features and transform documents to feature vectors\n",
    "X_train_counts = count_vect.fit_transform(descriptors.data)\n",
    "X_train_tfidf = tfidf_transformer.fit_transform(X_train_counts)\n",
    "X_train_tfidf.shape"
   ]
  },
  {
   "cell_type": "code",
   "execution_count": 54,
   "metadata": {
    "collapsed": false
   },
   "outputs": [
    {
     "data": {
      "text/plain": [
       "<1x20873 sparse matrix of type '<type 'numpy.float64'>'\n",
       "\twith 92 stored elements in Compressed Sparse Row format>"
      ]
     },
     "execution_count": 54,
     "metadata": {},
     "output_type": "execute_result"
    }
   ],
   "source": [
    "X_train_tfidf[0]"
   ]
  },
  {
   "cell_type": "code",
   "execution_count": 55,
   "metadata": {
    "collapsed": false
   },
   "outputs": [],
   "source": [
    "from sklearn.linear_model import SGDClassifier\n",
    "clf = SGDClassifier(loss='hinge', penalty='l2',\n",
    "                                         alpha=1e-3, n_iter=5,\n",
    "                                         random_state=42).fit(X_train_tfidf, descriptors.target)"
   ]
  },
  {
   "cell_type": "code",
   "execution_count": 56,
   "metadata": {
    "collapsed": false
   },
   "outputs": [
    {
     "data": {
      "text/plain": [
       "['pubtypeClassifier.pkl']"
      ]
     },
     "execution_count": 56,
     "metadata": {},
     "output_type": "execute_result"
    }
   ],
   "source": [
    "from sklearn.externals import joblib\n",
    "joblib.dump(clf, 'pubtypeClassifier.pkl')"
   ]
  },
  {
   "cell_type": "code",
   "execution_count": 58,
   "metadata": {
    "collapsed": false
   },
   "outputs": [
    {
     "name": "stdout",
     "output_type": "stream",
     "text": [
      "'this study investigates' => Research\n",
      "'a letter to the editor' => Letter\n"
     ]
    }
   ],
   "source": [
    "# to predict descriptor for a new doc, call transform instead of fit_transform since they've already been fit\n",
    "docs_new = ['this study investigates', 'a letter to the editor']\n",
    "X_new_counts = count_vect.transform(docs_new)\n",
    "X_new_tfidf = tfidf_transformer.transform(X_new_counts)\n",
    "\n",
    "predicted = clf.predict(X_new_tfidf)\n",
    "\n",
    "for doc, category in zip(docs_new, predicted):\n",
    "    print('%r => %s' % (doc, descriptors.target_names[category]))"
   ]
  },
  {
   "cell_type": "code",
   "execution_count": 59,
   "metadata": {
    "collapsed": true
   },
   "outputs": [],
   "source": [
    "doc_new = [\"The purpose of this study is to develop an abnormal gait detection algorithm and a vibratory stimulation system on a lower limb to improve gait stability and prevent falls. The system consists of a gait measurement module, an abnormal gait detection module, and a vibratory stimulation module. The gait measurement module measures the vertical acceleration of the ankle during walking using an accelerometer. The measured acceleration values are sent to a portable microcontroller, which controls vibratory stimulations to the ankles based on an algorithm that detects the peak acceleration values. If the acceleration peaks are found to occur irregularly, the abnormal gait detection algorithm activates the vibratory stimulation module. To determine the effect of vibratory stimulations under dynamic condition, this study investigated the contribution of ankle muscle proprioception on the control of dynamic stability and lower limb kinematics while walking using vibratory stimulation to alter the muscle spindle output of individuals' left lower limb. Vibrators were attached to the left ankle joint (tibialis anterior, triceps surae). Participants were required to walk along a travel path and step over an obstacle placed in their way. There were four task conditions; an obstacle (10%, 20%, and 30% of the participants' height) was positioned at the midpoint of the walkway, or the participants' walking path remained clear. For each obstacle condition, participants experienced either no vibration, or vibration of the tibialis anterior muscle and the triceps surae muscle of the left lower limb. Vibration began upon detection of an abnormal gait and continued for one second. Vibrating the ankle muscles of the left lower limb while stepping over an obstacle resulted in significant changes in COM behavior on both the anterior/posterior (A/P) and medial/lateral (M/L) planes. The results provide strong evidence that the primary endings of the ankle muscle spindles play a significant role in the control of posture and balance during the swing phase of locomotion by providing information on the movement of the body's COM with respect to the support foot.\"]"
   ]
  },
  {
   "cell_type": "code",
   "execution_count": 60,
   "metadata": {
    "collapsed": false
   },
   "outputs": [
    {
     "name": "stdout",
     "output_type": "stream",
     "text": [
      "Randomized_Controlled_Trial\n"
     ]
    }
   ],
   "source": [
    "X_new_counts = count_vect.transform(doc_new)\n",
    "X_new_tfidf = tfidf_transformer.transform(X_new_counts)\n",
    "\n",
    "predicted = clf.predict(X_new_tfidf)\n",
    "\n",
    "for doc, category in zip(doc_new, predicted):\n",
    "    print('%s' % (descriptors.target_names[category]))"
   ]
  }
 ],
 "metadata": {
  "anaconda-cloud": {},
  "kernelspec": {
   "display_name": "Python [conda root]",
   "language": "python",
   "name": "conda-root-py"
  },
  "language_info": {
   "codemirror_mode": {
    "name": "ipython",
    "version": 2
   },
   "file_extension": ".py",
   "mimetype": "text/x-python",
   "name": "python",
   "nbconvert_exporter": "python",
   "pygments_lexer": "ipython2",
   "version": "2.7.12"
  }
 },
 "nbformat": 4,
 "nbformat_minor": 1
}
