{
 "cells": [
  {
   "cell_type": "markdown",
   "metadata": {},
   "source": [
    "# Work Stoppages (Strikes) in the US from 1947 to 2015\n",
    "\n",
    "Data is from the Burea of Labor Statistics, [Table 1. Work stoppages involving 1,000 or more workers, 1947-2015](http://www.bls.gov/news.release/wkstp.t01.htm) accessed on 11/12/2016."
   ]
  },
  {
   "cell_type": "code",
   "execution_count": 5,
   "metadata": {
    "collapsed": false
   },
   "outputs": [],
   "source": [
    "ws = read.csv(\"C:/Users/dclynch/Desktop/Work_stoppages_involving_1000_plus_workers_1947-2015.txt\", sep=\"\\t\", header=TRUE)"
   ]
  },
  {
   "cell_type": "code",
   "execution_count": 14,
   "metadata": {
    "collapsed": false
   },
   "outputs": [
    {
     "name": "stdout",
     "output_type": "stream",
     "text": [
      "'data.frame':\t69 obs. of  5 variables:\n",
      " $ Year                           : int  1947 1948 1949 1950 1951 1952 1953 1954 1955 1956 ...\n",
      " $ Work.Stoppages                 : int  270 245 262 424 415 470 437 265 363 287 ...\n",
      " $ Number.of.workers..thousands.  : Factor w/ 69 levels \"1,006\",\"1,021\",..: 17 11 37 18 12 38 16 4 33 8 ...\n",
      " $ Number..thousands.             : Factor w/ 69 levels \"1,020\",\"1,131\",..: 37 38 57 45 15 58 27 20 33 39 ...\n",
      " $ Percent.of.esstimated.work.time: num  0.22 0.22 0.38 0.26 0.12 0.38 0.14 0.13 0.16 0.2 ...\n"
     ]
    },
    {
     "data": {
      "text/html": [
       "<table>\n",
       "<thead><tr><th scope=col>Year</th><th scope=col>Work.Stoppages</th><th scope=col>Number.of.workers..thousands.</th><th scope=col>Number..thousands.</th><th scope=col>Percent.of.esstimated.work.time</th></tr></thead>\n",
       "<tbody>\n",
       "\t<tr><td>1947  </td><td>270   </td><td>1,629 </td><td>25,720</td><td>0.22  </td></tr>\n",
       "\t<tr><td>1948  </td><td>245   </td><td>1,435 </td><td>26,127</td><td>0.22  </td></tr>\n",
       "\t<tr><td>1949  </td><td>262   </td><td>2,537 </td><td>43,420</td><td>0.38  </td></tr>\n",
       "\t<tr><td>1950  </td><td>424   </td><td>1,698 </td><td>30,390</td><td>0.26  </td></tr>\n",
       "\t<tr><td>1951  </td><td>415   </td><td>1,462 </td><td>15,070</td><td>0.12  </td></tr>\n",
       "\t<tr><td>1952  </td><td>470   </td><td>2,746 </td><td>48,820</td><td>0.38  </td></tr>\n",
       "\t<tr><td>1953  </td><td>437   </td><td>1,623 </td><td>18,130</td><td>0.14  </td></tr>\n",
       "\t<tr><td>1954  </td><td>265   </td><td>1,075 </td><td>16,630</td><td>0.13  </td></tr>\n",
       "\t<tr><td>1955  </td><td>363   </td><td>2,055 </td><td>21,180</td><td>0.16  </td></tr>\n",
       "\t<tr><td>1956  </td><td>287   </td><td>1,370 </td><td>26,840</td><td>0.20  </td></tr>\n",
       "\t<tr><td>1957  </td><td>279   </td><td>887   </td><td>10,340</td><td>0.07  </td></tr>\n",
       "\t<tr><td>1958  </td><td>332   </td><td>1,587 </td><td>17,900</td><td>0.13  </td></tr>\n",
       "\t<tr><td>1959  </td><td>245   </td><td>1,381 </td><td>60,850</td><td>0.43  </td></tr>\n",
       "\t<tr><td>1960  </td><td>222   </td><td>896   </td><td>13,260</td><td>0.09  </td></tr>\n",
       "\t<tr><td>1961  </td><td>195   </td><td>1,031 </td><td>10,140</td><td>0.07  </td></tr>\n",
       "\t<tr><td>1962  </td><td>211   </td><td>793   </td><td>11,760</td><td>0.08  </td></tr>\n",
       "\t<tr><td>1963  </td><td>181   </td><td>512   </td><td>10,020</td><td>0.07  </td></tr>\n",
       "\t<tr><td>1964  </td><td>246   </td><td>1,183 </td><td>16,220</td><td>0.11  </td></tr>\n",
       "\t<tr><td>1965  </td><td>268   </td><td>999   </td><td>15,140</td><td>0.10  </td></tr>\n",
       "\t<tr><td>1966  </td><td>321   </td><td>1,300 </td><td>16,000</td><td>0.10  </td></tr>\n",
       "\t<tr><td>1967  </td><td>381   </td><td>2,192 </td><td>31,320</td><td>0.18  </td></tr>\n",
       "\t<tr><td>1968  </td><td>392   </td><td>1,855 </td><td>35,367</td><td>0.20  </td></tr>\n",
       "\t<tr><td>1969  </td><td>412   </td><td>1,576 </td><td>29,397</td><td>0.16  </td></tr>\n",
       "\t<tr><td>1970  </td><td>381   </td><td>2,468 </td><td>52,761</td><td>0.29  </td></tr>\n",
       "\t<tr><td>1971  </td><td>298   </td><td>2,516 </td><td>35,538</td><td>0.19  </td></tr>\n",
       "\t<tr><td>1972  </td><td>250   </td><td>975   </td><td>16,764</td><td>0.09  </td></tr>\n",
       "\t<tr><td>1973  </td><td>317   </td><td>1,400 </td><td>16,260</td><td>0.08  </td></tr>\n",
       "\t<tr><td>1974  </td><td>424   </td><td>1,796 </td><td>31,809</td><td>0.16  </td></tr>\n",
       "\t<tr><td>1975  </td><td>235   </td><td>965   </td><td>17,563</td><td>0.09  </td></tr>\n",
       "\t<tr><td>1976  </td><td>231   </td><td>1,519 </td><td>23,962</td><td>0.12  </td></tr>\n",
       "\t<tr><td>...</td><td>...</td><td>...</td><td>...</td><td>...</td></tr>\n",
       "\t<tr><td>1986  </td><td>69    </td><td>533   </td><td>11,861</td><td>0.050 </td></tr>\n",
       "\t<tr><td>1987  </td><td>46    </td><td>174   </td><td>4,481 </td><td>0.020 </td></tr>\n",
       "\t<tr><td>1988  </td><td>40    </td><td>118   </td><td>4,381 </td><td>0.020 </td></tr>\n",
       "\t<tr><td>1989  </td><td>51    </td><td>452   </td><td>16,996</td><td>0.070 </td></tr>\n",
       "\t<tr><td>1990  </td><td>44    </td><td>185   </td><td>5,926 </td><td>0.020 </td></tr>\n",
       "\t<tr><td>1991  </td><td>40    </td><td>392   </td><td>4,584 </td><td>0.020 </td></tr>\n",
       "\t<tr><td>1992  </td><td>35    </td><td>364   </td><td>3,989 </td><td>0.010 </td></tr>\n",
       "\t<tr><td>1993  </td><td>35    </td><td>182   </td><td>3,981 </td><td>0.010 </td></tr>\n",
       "\t<tr><td>1994  </td><td>45    </td><td>322   </td><td>5,021 </td><td>0.020 </td></tr>\n",
       "\t<tr><td>1995  </td><td>31    </td><td>192   </td><td>5,771 </td><td>0.020 </td></tr>\n",
       "\t<tr><td>1996  </td><td>37    </td><td>273   </td><td>4,889 </td><td>0.020 </td></tr>\n",
       "\t<tr><td>1997  </td><td>29    </td><td>339   </td><td>4,497 </td><td>0.010 </td></tr>\n",
       "\t<tr><td>1998  </td><td>34    </td><td>387   </td><td>5,116 </td><td>0.020 </td></tr>\n",
       "\t<tr><td>1999  </td><td>17    </td><td>73    </td><td>1,996 </td><td>0.010 </td></tr>\n",
       "\t<tr><td>2000  </td><td>39    </td><td>394   </td><td>20,419</td><td>0.060 </td></tr>\n",
       "\t<tr><td>2001  </td><td>29    </td><td>99    </td><td>1,151 </td><td>0.004 </td></tr>\n",
       "\t<tr><td>2002  </td><td>19    </td><td>46    </td><td>660   </td><td>0.004 </td></tr>\n",
       "\t<tr><td>2003  </td><td>14    </td><td>129   </td><td>4,091 </td><td>0.010 </td></tr>\n",
       "\t<tr><td>2004  </td><td>17    </td><td>171   </td><td>3,344 </td><td>0.010 </td></tr>\n",
       "\t<tr><td>2005  </td><td>22    </td><td>100   </td><td>1,736 </td><td>0.010 </td></tr>\n",
       "\t<tr><td>2006  </td><td>20    </td><td>70    </td><td>2,688 </td><td>0.010 </td></tr>\n",
       "\t<tr><td>2007  </td><td>21    </td><td>189   </td><td>1,265 </td><td>0.004 </td></tr>\n",
       "\t<tr><td>2008  </td><td>15    </td><td>72    </td><td>1,954 </td><td>0.010 </td></tr>\n",
       "\t<tr><td>2009  </td><td> 5    </td><td>13    </td><td>124   </td><td>0.004 </td></tr>\n",
       "\t<tr><td>2010  </td><td>11    </td><td>45    </td><td>302   </td><td>0.004 </td></tr>\n",
       "\t<tr><td>2011  </td><td>19    </td><td>113   </td><td>1,020 </td><td>0.004 </td></tr>\n",
       "\t<tr><td>2012  </td><td>19    </td><td>148   </td><td>1,131 </td><td>0.004 </td></tr>\n",
       "\t<tr><td>2013  </td><td>15    </td><td>55    </td><td>290   </td><td>0.004 </td></tr>\n",
       "\t<tr><td>2014  </td><td>11    </td><td>34    </td><td>200   </td><td>0.004 </td></tr>\n",
       "\t<tr><td>2015  </td><td>12    </td><td>47    </td><td>740   </td><td>0.004 </td></tr>\n",
       "</tbody>\n",
       "</table>\n"
      ],
      "text/latex": [
       "\\begin{tabular}{r|lllll}\n",
       " Year & Work.Stoppages & Number.of.workers..thousands. & Number..thousands. & Percent.of.esstimated.work.time\\\\\n",
       "\\hline\n",
       "\t 1947   & 270    & 1,629  & 25,720 & 0.22  \\\\\n",
       "\t 1948   & 245    & 1,435  & 26,127 & 0.22  \\\\\n",
       "\t 1949   & 262    & 2,537  & 43,420 & 0.38  \\\\\n",
       "\t 1950   & 424    & 1,698  & 30,390 & 0.26  \\\\\n",
       "\t 1951   & 415    & 1,462  & 15,070 & 0.12  \\\\\n",
       "\t 1952   & 470    & 2,746  & 48,820 & 0.38  \\\\\n",
       "\t 1953   & 437    & 1,623  & 18,130 & 0.14  \\\\\n",
       "\t 1954   & 265    & 1,075  & 16,630 & 0.13  \\\\\n",
       "\t 1955   & 363    & 2,055  & 21,180 & 0.16  \\\\\n",
       "\t 1956   & 287    & 1,370  & 26,840 & 0.20  \\\\\n",
       "\t 1957   & 279    & 887    & 10,340 & 0.07  \\\\\n",
       "\t 1958   & 332    & 1,587  & 17,900 & 0.13  \\\\\n",
       "\t 1959   & 245    & 1,381  & 60,850 & 0.43  \\\\\n",
       "\t 1960   & 222    & 896    & 13,260 & 0.09  \\\\\n",
       "\t 1961   & 195    & 1,031  & 10,140 & 0.07  \\\\\n",
       "\t 1962   & 211    & 793    & 11,760 & 0.08  \\\\\n",
       "\t 1963   & 181    & 512    & 10,020 & 0.07  \\\\\n",
       "\t 1964   & 246    & 1,183  & 16,220 & 0.11  \\\\\n",
       "\t 1965   & 268    & 999    & 15,140 & 0.10  \\\\\n",
       "\t 1966   & 321    & 1,300  & 16,000 & 0.10  \\\\\n",
       "\t 1967   & 381    & 2,192  & 31,320 & 0.18  \\\\\n",
       "\t 1968   & 392    & 1,855  & 35,367 & 0.20  \\\\\n",
       "\t 1969   & 412    & 1,576  & 29,397 & 0.16  \\\\\n",
       "\t 1970   & 381    & 2,468  & 52,761 & 0.29  \\\\\n",
       "\t 1971   & 298    & 2,516  & 35,538 & 0.19  \\\\\n",
       "\t 1972   & 250    & 975    & 16,764 & 0.09  \\\\\n",
       "\t 1973   & 317    & 1,400  & 16,260 & 0.08  \\\\\n",
       "\t 1974   & 424    & 1,796  & 31,809 & 0.16  \\\\\n",
       "\t 1975   & 235    & 965    & 17,563 & 0.09  \\\\\n",
       "\t 1976   & 231    & 1,519  & 23,962 & 0.12  \\\\\n",
       "\t ... & ... & ... & ... & ...\\\\\n",
       "\t 1986   & 69     & 533    & 11,861 & 0.050 \\\\\n",
       "\t 1987   & 46     & 174    & 4,481  & 0.020 \\\\\n",
       "\t 1988   & 40     & 118    & 4,381  & 0.020 \\\\\n",
       "\t 1989   & 51     & 452    & 16,996 & 0.070 \\\\\n",
       "\t 1990   & 44     & 185    & 5,926  & 0.020 \\\\\n",
       "\t 1991   & 40     & 392    & 4,584  & 0.020 \\\\\n",
       "\t 1992   & 35     & 364    & 3,989  & 0.010 \\\\\n",
       "\t 1993   & 35     & 182    & 3,981  & 0.010 \\\\\n",
       "\t 1994   & 45     & 322    & 5,021  & 0.020 \\\\\n",
       "\t 1995   & 31     & 192    & 5,771  & 0.020 \\\\\n",
       "\t 1996   & 37     & 273    & 4,889  & 0.020 \\\\\n",
       "\t 1997   & 29     & 339    & 4,497  & 0.010 \\\\\n",
       "\t 1998   & 34     & 387    & 5,116  & 0.020 \\\\\n",
       "\t 1999   & 17     & 73     & 1,996  & 0.010 \\\\\n",
       "\t 2000   & 39     & 394    & 20,419 & 0.060 \\\\\n",
       "\t 2001   & 29     & 99     & 1,151  & 0.004 \\\\\n",
       "\t 2002   & 19     & 46     & 660    & 0.004 \\\\\n",
       "\t 2003   & 14     & 129    & 4,091  & 0.010 \\\\\n",
       "\t 2004   & 17     & 171    & 3,344  & 0.010 \\\\\n",
       "\t 2005   & 22     & 100    & 1,736  & 0.010 \\\\\n",
       "\t 2006   & 20     & 70     & 2,688  & 0.010 \\\\\n",
       "\t 2007   & 21     & 189    & 1,265  & 0.004 \\\\\n",
       "\t 2008   & 15     & 72     & 1,954  & 0.010 \\\\\n",
       "\t 2009   &  5     & 13     & 124    & 0.004 \\\\\n",
       "\t 2010   & 11     & 45     & 302    & 0.004 \\\\\n",
       "\t 2011   & 19     & 113    & 1,020  & 0.004 \\\\\n",
       "\t 2012   & 19     & 148    & 1,131  & 0.004 \\\\\n",
       "\t 2013   & 15     & 55     & 290    & 0.004 \\\\\n",
       "\t 2014   & 11     & 34     & 200    & 0.004 \\\\\n",
       "\t 2015   & 12     & 47     & 740    & 0.004 \\\\\n",
       "\\end{tabular}\n"
      ],
      "text/plain": [
       "    Year Work.Stoppages Number.of.workers..thousands. Number..thousands.\n",
       "1   1947 270            1,629                         25,720            \n",
       "2   1948 245            1,435                         26,127            \n",
       "3   1949 262            2,537                         43,420            \n",
       "4   1950 424            1,698                         30,390            \n",
       "5   1951 415            1,462                         15,070            \n",
       "6   1952 470            2,746                         48,820            \n",
       "7   1953 437            1,623                         18,130            \n",
       "8   1954 265            1,075                         16,630            \n",
       "9   1955 363            2,055                         21,180            \n",
       "10  1956 287            1,370                         26,840            \n",
       "11  1957 279            887                           10,340            \n",
       "12  1958 332            1,587                         17,900            \n",
       "13  1959 245            1,381                         60,850            \n",
       "14  1960 222            896                           13,260            \n",
       "15  1961 195            1,031                         10,140            \n",
       "16  1962 211            793                           11,760            \n",
       "17  1963 181            512                           10,020            \n",
       "18  1964 246            1,183                         16,220            \n",
       "19  1965 268            999                           15,140            \n",
       "20  1966 321            1,300                         16,000            \n",
       "21  1967 381            2,192                         31,320            \n",
       "22  1968 392            1,855                         35,367            \n",
       "23  1969 412            1,576                         29,397            \n",
       "24  1970 381            2,468                         52,761            \n",
       "25  1971 298            2,516                         35,538            \n",
       "26  1972 250            975                           16,764            \n",
       "27  1973 317            1,400                         16,260            \n",
       "28  1974 424            1,796                         31,809            \n",
       "29  1975 235            965                           17,563            \n",
       "30  1976 231            1,519                         23,962            \n",
       "... ...  ...            ...                           ...               \n",
       "40  1986 69             533                           11,861            \n",
       "41  1987 46             174                           4,481             \n",
       "42  1988 40             118                           4,381             \n",
       "43  1989 51             452                           16,996            \n",
       "44  1990 44             185                           5,926             \n",
       "45  1991 40             392                           4,584             \n",
       "46  1992 35             364                           3,989             \n",
       "47  1993 35             182                           3,981             \n",
       "48  1994 45             322                           5,021             \n",
       "49  1995 31             192                           5,771             \n",
       "50  1996 37             273                           4,889             \n",
       "51  1997 29             339                           4,497             \n",
       "52  1998 34             387                           5,116             \n",
       "53  1999 17             73                            1,996             \n",
       "54  2000 39             394                           20,419            \n",
       "55  2001 29             99                            1,151             \n",
       "56  2002 19             46                            660               \n",
       "57  2003 14             129                           4,091             \n",
       "58  2004 17             171                           3,344             \n",
       "59  2005 22             100                           1,736             \n",
       "60  2006 20             70                            2,688             \n",
       "61  2007 21             189                           1,265             \n",
       "62  2008 15             72                            1,954             \n",
       "63  2009  5             13                            124               \n",
       "64  2010 11             45                            302               \n",
       "65  2011 19             113                           1,020             \n",
       "66  2012 19             148                           1,131             \n",
       "67  2013 15             55                            290               \n",
       "68  2014 11             34                            200               \n",
       "69  2015 12             47                            740               \n",
       "    Percent.of.esstimated.work.time\n",
       "1   0.22                           \n",
       "2   0.22                           \n",
       "3   0.38                           \n",
       "4   0.26                           \n",
       "5   0.12                           \n",
       "6   0.38                           \n",
       "7   0.14                           \n",
       "8   0.13                           \n",
       "9   0.16                           \n",
       "10  0.20                           \n",
       "11  0.07                           \n",
       "12  0.13                           \n",
       "13  0.43                           \n",
       "14  0.09                           \n",
       "15  0.07                           \n",
       "16  0.08                           \n",
       "17  0.07                           \n",
       "18  0.11                           \n",
       "19  0.10                           \n",
       "20  0.10                           \n",
       "21  0.18                           \n",
       "22  0.20                           \n",
       "23  0.16                           \n",
       "24  0.29                           \n",
       "25  0.19                           \n",
       "26  0.09                           \n",
       "27  0.08                           \n",
       "28  0.16                           \n",
       "29  0.09                           \n",
       "30  0.12                           \n",
       "... ...                            \n",
       "40  0.050                          \n",
       "41  0.020                          \n",
       "42  0.020                          \n",
       "43  0.070                          \n",
       "44  0.020                          \n",
       "45  0.020                          \n",
       "46  0.010                          \n",
       "47  0.010                          \n",
       "48  0.020                          \n",
       "49  0.020                          \n",
       "50  0.020                          \n",
       "51  0.010                          \n",
       "52  0.020                          \n",
       "53  0.010                          \n",
       "54  0.060                          \n",
       "55  0.004                          \n",
       "56  0.004                          \n",
       "57  0.010                          \n",
       "58  0.010                          \n",
       "59  0.010                          \n",
       "60  0.010                          \n",
       "61  0.004                          \n",
       "62  0.010                          \n",
       "63  0.004                          \n",
       "64  0.004                          \n",
       "65  0.004                          \n",
       "66  0.004                          \n",
       "67  0.004                          \n",
       "68  0.004                          \n",
       "69  0.004                          "
      ]
     },
     "metadata": {},
     "output_type": "display_data"
    }
   ],
   "source": [
    "str(ws)\n",
    "library(data.table)\n",
    "data.table(ws)"
   ]
  },
  {
   "cell_type": "code",
   "execution_count": 7,
   "metadata": {
    "collapsed": false
   },
   "outputs": [
    {
     "data": {
      "text/html": [
       "'ts'"
      ],
      "text/latex": [
       "'ts'"
      ],
      "text/markdown": [
       "'ts'"
      ],
      "text/plain": [
       "[1] \"ts\""
      ]
     },
     "metadata": {},
     "output_type": "display_data"
    }
   ],
   "source": [
    "strike <- ts(ws$Work.Stoppages, frequency=69, start(1947))\n",
    "class(strike)"
   ]
  },
  {
   "cell_type": "code",
   "execution_count": 8,
   "metadata": {
    "collapsed": false
   },
   "outputs": [
    {
     "data": {
      "text/plain": [
       "Time Series:\n",
       "Start = c(1, 1) \n",
       "End = c(1, 69) \n",
       "Frequency = 69 \n",
       " [1] 270 245 262 424 415 470 437 265 363 287 279 332 245 222 195 211 181 246 268\n",
       "[20] 321 381 392 412 381 298 250 317 424 235 231 298 219 235 187 145  96  81  62\n",
       "[39]  54  69  46  40  51  44  40  35  35  45  31  37  29  34  17  39  29  19  14\n",
       "[58]  17  22  20  21  15   5  11  19  19  15  11  12"
      ]
     },
     "metadata": {},
     "output_type": "display_data"
    }
   ],
   "source": [
    "strike"
   ]
  },
  {
   "cell_type": "code",
   "execution_count": 10,
   "metadata": {
    "collapsed": false
   },
   "outputs": [
    {
     "data": {
      "image/png": "[encoded data removed]",
      "text/plain": [
       "plot without title"
      ]
     },
     "metadata": {},
     "output_type": "display_data"
    }
   ],
   "source": [
    "plot.ts(strike)"
   ]
  },
  {
   "cell_type": "code",
   "execution_count": 13,
   "metadata": {
    "collapsed": false
   },
   "outputs": [
    {
     "data": {
      "image/png": "[encoded data removed]",
      "text/plain": [
       "plot without title"
      ]
     },
     "metadata": {},
     "output_type": "display_data"
    }
   ],
   "source": [
    "plot.ts(strike, plot.type = \"multiple\", col=c(\"blue\", \"orange\"))"
   ]
  },
  {
   "cell_type": "code",
   "execution_count": 16,
   "metadata": {
    "collapsed": false
   },
   "outputs": [
    {
     "data": {
      "text/html": [
       "'C:/Program Files/R/R-3.3.0/library'"
      ],
      "text/latex": [
       "'C:/Program Files/R/R-3.3.0/library'"
      ],
      "text/markdown": [
       "'C:/Program Files/R/R-3.3.0/library'"
      ],
      "text/plain": [
       "[1] \"C:/Program Files/R/R-3.3.0/library\""
      ]
     },
     "metadata": {},
     "output_type": "display_data"
    }
   ],
   "source": [
    ".libPaths()"
   ]
  },
  {
   "cell_type": "code",
   "execution_count": 18,
   "metadata": {
    "collapsed": false
   },
   "outputs": [],
   "source": [
    ".libPaths(\"C:/Program Files/R/R-3.3.2/library\")"
   ]
  },
  {
   "cell_type": "code",
   "execution_count": 23,
   "metadata": {
    "collapsed": false
   },
   "outputs": [
    {
     "name": "stderr",
     "output_type": "stream",
     "text": [
      "Warning message:\n",
      "\"package 'ggplot2' was built under R version 3.3.2\""
     ]
    },
    {
     "ename": "ERROR",
     "evalue": "Error: package or namespace load failed for 'ggplot2'\n",
     "output_type": "error",
     "traceback": [
      "Error: package or namespace load failed for 'ggplot2'\nTraceback:\n",
      "1. library(ggplot2)",
      "2. stop(gettextf(\"package or namespace load failed for %s\", sQuote(package)), \n .     call. = FALSE, domain = NA)"
     ]
    }
   ],
   "source": [
    "library(ggplot2)"
   ]
  },
  {
   "cell_type": "code",
   "execution_count": 22,
   "metadata": {
    "collapsed": false
   },
   "outputs": [
    {
     "ename": "ERROR",
     "evalue": "Error: Unknown TZ UTC\n",
     "output_type": "error",
     "traceback": [
      "Error: Unknown TZ UTC\nTraceback:\n",
      "1. read_tsv(\"C:/Users/dclynch/Desktop/Work_stoppages_involving_1000_plus_workers_1947-2015.txt\")",
      "2. read_delimited(file, tokenizer, col_names = col_names, col_types = col_types, \n .     locale = locale, skip = skip, comment = comment, n_max = n_max, \n .     progress = progress)",
      "3. col_spec_standardise(data, skip = skip, comment = comment, n_max = n_max, \n .     col_names = col_names, col_types = col_types, tokenizer = tokenizer, \n .     locale = locale)",
      "4. guess_header(ds_header, tokenizer, locale)",
      "5. guess_header_(datasource, tokenizer, locale)",
      "6. default_locale()",
      "7. locale()",
      "8. check_tz(tz)",
      "9. stop(\"Unknown TZ \", x, call. = FALSE)"
     ]
    }
   ],
   "source": [
    "library(tidyr)\n",
    "library(dplyr)\n",
    "library(readr)\n",
    "ws = read_tsv(\"C:/Users/dclynch/Desktop/Work_stoppages_involving_1000_plus_workers_1947-2015.txt\")\n"
   ]
  },
  {
   "cell_type": "code",
   "execution_count": null,
   "metadata": {
    "collapsed": true
   },
   "outputs": [],
   "source": [
    "select(ws, Year)"
   ]
  },
  {
   "cell_type": "code",
   "execution_count": null,
   "metadata": {
    "collapsed": true
   },
   "outputs": [],
   "source": [
    "select(ws, Year, `Work Stoppages`)\n",
    "\n",
    "ws = group_by(ws, Year, `Work Stoppages`, `Number of workers (thousands)`)\n",
    "print(summarise(ws, number = sum(`Work Stoppages`)))\n",
    "min(`Work Stoppages`)\n",
    "Error: object 'Work Stoppages' not found\n",
    "> library(ggplot2)\n",
    "> plotobj = ggplot(ws, aes(x = Year, y = `Work Stoppages`, color = `Work Stoppages`))\n",
    "> pob = plotobj + geom_line()\n",
    "> pob\n",
    "> poob = plotObj + geom_bar(stat = \"identity\")\n",
    "Error: object 'plotObj' not found\n",
    "> poob = plotobj + geom_bar(stat = \"identity\")\n",
    "> poob\n",
    "> pooob = plotobj + scale_color_manual(values = RColorBrewer::brewer.pal(3, \"Dark2\"))\n",
    "> pooob\n",
    "Error: Continuous value supplied to discrete scale\n",
    "> poob = plotobj + geom_bar(stat = \"identity\") + theme_bw()\n",
    "> poob\n",
    "> poob = plotobj + geom_bar(stat = \"identity\") + theme_light()\n",
    "> poob\n",
    "> pooob = plotobj + theme(axis.text.x = element_text(family = \"Helvetica\", face=\"bold\", colour=\"#000000\", size=10, angle = 90, hjust = 1))\n",
    "> pooob\n",
    "filter(ws, Year >= 1980 & Year < 2000)"
   ]
  }
 ],
 "metadata": {
  "kernelspec": {
   "display_name": "R",
   "language": "R",
   "name": "ir"
  },
  "language_info": {
   "codemirror_mode": "r",
   "file_extension": ".r",
   "mimetype": "text/x-r-source",
   "name": "R",
   "pygments_lexer": "r",
   "version": "3.3.2"
  }
 },
 "nbformat": 4,
 "nbformat_minor": 0
}
